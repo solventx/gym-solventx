{
 "cells": [
  {
   "cell_type": "code",
   "execution_count": null,
   "metadata": {},
   "outputs": [],
   "source": [
    "import time\n",
    "import random \n",
    "import gym\n",
    "import gym_solventx "
   ]
  },
  {
   "cell_type": "code",
   "execution_count": null,
   "metadata": {},
   "outputs": [],
   "source": [
    "env = gym.make('gym_solventx-v0')"
   ]
  },
  {
   "cell_type": "code",
   "execution_count": null,
   "metadata": {},
   "outputs": [],
   "source": [
    "dir(env)"
   ]
  },
  {
   "cell_type": "code",
   "execution_count": null,
   "metadata": {},
   "outputs": [],
   "source": [
    "envstate =  env.reset()\n",
    "#env.render() #observe initial configuration"
   ]
  },
  {
   "cell_type": "code",
   "execution_count": null,
   "metadata": {},
   "outputs": [],
   "source": [
    "observation, reward, done, _ = env.step(0)"
   ]
  },
  {
   "cell_type": "code",
   "execution_count": null,
   "metadata": {},
   "outputs": [],
   "source": [
    "%%time\n",
    "action_times = {}\n",
    "for i in range(env.action_space.n):\n",
    "    start_time = time.time()\n",
    "    observation, reward, done, _ = env.step(i)\n",
    "    print(f'Action:{i},time:{time.time()-start_time}')\n",
    "    if i in action_times:\n",
    "        action_times[i] = action_times[i] +time.time()-start_time\n",
    "    else:\n",
    "        action_times[i] = time.time()-start_time"
   ]
  },
  {
   "cell_type": "code",
   "execution_count": null,
   "metadata": {},
   "outputs": [],
   "source": [
    "%%time\n",
    "done = False\n",
    "action_count = 0\n",
    "envstate = env.reset()\n",
    "while not done: #take action\n",
    "    action_count += 1\n",
    "    action = env.action_space.sample()\n",
    "    print(action_count,action)\n",
    "    observation, reward, done, _ = env.step(action)\n",
    "    print(f'Reward:{reward}')\n",
    "    env.show_design_performance()\n",
    "    "
   ]
  },
  {
   "cell_type": "code",
   "execution_count": null,
   "metadata": {},
   "outputs": [],
   "source": [
    "def create_policy_eval(policy, num_episodes=5:\n",
    "  for _ in range(num_episodes):\n",
    "      time_step = eval_env.reset()\n",
    "      \n",
    "      while not time_step.is_last():\n",
    "        action_step = policy.action(time_step)\n",
    "        time_step = eval_env.step(action_step.action)        \n",
    "  "
   ]
  },
  {
   "cell_type": "code",
   "execution_count": null,
   "metadata": {},
   "outputs": [],
   "source": [
    "def test_agent(observation):\n",
    "    return 7"
   ]
  },
  {
   "cell_type": "code",
   "execution_count": null,
   "metadata": {},
   "outputs": [],
   "source": [
    "env.evaluate(test_agent)"
   ]
  },
  {
   "cell_type": "code",
   "execution_count": null,
   "metadata": {},
   "outputs": [],
   "source": [
    "env.evaluate(env.dummy_agent)"
   ]
  },
  {
   "cell_type": "code",
   "execution_count": null,
   "metadata": {},
   "outputs": [],
   "source": [
    "env.observation_variables#[11]"
   ]
  }
 ],
 "metadata": {
  "kernelspec": {
   "display_name": "gym_simulator",
   "language": "python",
   "name": "gym_simulator"
  },
  "language_info": {
   "codemirror_mode": {
    "name": "ipython",
    "version": 3
   },
   "file_extension": ".py",
   "mimetype": "text/x-python",
   "name": "python",
   "nbconvert_exporter": "python",
   "pygments_lexer": "ipython3",
   "version": "3.7.3"
  }
 },
 "nbformat": 4,
 "nbformat_minor": 2
}
