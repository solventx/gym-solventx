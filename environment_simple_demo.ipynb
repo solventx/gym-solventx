{
 "cells": [
  {
   "cell_type": "code",
   "execution_count": null,
   "metadata": {},
   "outputs": [],
   "source": [
    "import time\n",
    "import gym\n",
    "import gym_solventx "
   ]
  },
  {
   "cell_type": "code",
   "execution_count": null,
   "metadata": {},
   "outputs": [],
   "source": [
    "env = gym.make('gym_solventx-v0')"
   ]
  },
  {
   "cell_type": "code",
   "execution_count": null,
   "metadata": {},
   "outputs": [],
   "source": [
    "envstate =  env.reset()\n",
    "#env.render() #observe initial configuration"
   ]
  },
  {
   "cell_type": "code",
   "execution_count": null,
   "metadata": {},
   "outputs": [],
   "source": [
    "%%time\n",
    "action_times = {}\n",
    "for i in range(env.action_space.n):\n",
    "    start_time = time.time()\n",
    "    observation, reward, done, _ = env.step(i)\n",
    "    print(f'Action:{i},time:{time.time()-start_time}')\n",
    "    if i in action_times:\n",
    "        action_times[i] = action_times[i] +time.time()-start_time\n",
    "    else:\n",
    "        action_times[i] = time.time()-start_time"
   ]
  },
  {
   "cell_type": "code",
   "execution_count": null,
   "metadata": {},
   "outputs": [],
   "source": [
    "%%time\n",
    "done = False\n",
    "action_count = 0\n",
    "envstate = env.reset()\n",
    "while not done: #take action\n",
    "    action_count += 1\n",
    "    action = env.action_space.sample()\n",
    "    print(action_count,action)\n",
    "    observation, reward, done, _ = env.step(action)\n",
    "    "
   ]
  }
 ],
 "metadata": {
  "kernelspec": {
   "display_name": "gym_simulator",
   "language": "python",
   "name": "gym_simulator"
  },
  "language_info": {
   "codemirror_mode": {
    "name": "ipython",
    "version": 3
   },
   "file_extension": ".py",
   "mimetype": "text/x-python",
   "name": "python",
   "nbconvert_exporter": "python",
   "pygments_lexer": "ipython3",
   "version": "3.7.3"
  }
 },
 "nbformat": 4,
 "nbformat_minor": 2
}
